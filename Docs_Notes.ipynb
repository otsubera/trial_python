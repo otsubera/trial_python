{
 "cells": [
  {
   "cell_type": "markdown",
   "metadata": {},
   "source": [
    "# Sessions Notes "
   ]
  },
  {
   "cell_type": "markdown",
   "metadata": {},
   "source": [
    "### 1. No not-needed variables, remove \"res\"\n",
    "### 2. Different way to use typing\n",
    "### 3. No need to use round()"
   ]
  },
  {
   "cell_type": "markdown",
   "metadata": {},
   "source": [
    "https://docs.python.org/3/library/os.html#os.system <br>\n",
    "https://docs.python.org/3/library/subprocess.html#subprocess.check_output <br>\n",
    "https://github.com/gitpython-developers/GitPython <br>"
   ]
  },
  {
   "cell_type": "markdown",
   "metadata": {},
   "source": [
    "https://pypi.org/project/flake8/ <br>\n",
    "https://pypi.org/project/flake8-docstrings/ <br>\n",
    "https://www.codility.com/ <br>"
   ]
  },
  {
   "cell_type": "markdown",
   "metadata": {},
   "source": [
    "### 1. Try avoid names interfering builtin scope (sum)\n",
    "### 2. Move guard clause to the top\n",
    "### 3. Try to avoid shortcuts (except well-know abbreviations http, aws, etc...)\n",
    "### 4. Use enumerate() instead of range()\n",
    "### 5. Refactoring -> Remove Temp (length)\n",
    "### 6. Pythonic refactoring (if len(array) == 0  -> if array)"
   ]
  },
  {
   "cell_type": "markdown",
   "metadata": {},
   "source": [
    "https://www.ldoceonline.com/ <br> \n",
    "https://www.ldoceonline.com/dictionary/couple <br>\n",
    "https://romanmogilatov.com/2020/04/10/new_book_in_my_library_thinking_in_bets_making_smarter_decisions_when_you_don_t_have_all_the_facts_by_annie_duke.html <br>"
   ]
  },
  {
   "cell_type": "markdown",
   "metadata": {},
   "source": [
    "### 1. Use same type of quotes everywhere (consistency) (use single quotes all the time, use double quotes in single quotes)\n",
    "### 2. Practice in describing:\n",
    "### - I use generator expression (word.replace('right', 'left') for word in phrases) for iterating\n",
    "###   over input tuple and replace needed word\n",
    "### - I use join with generator expression above to get final string"
   ]
  },
  {
   "cell_type": "markdown",
   "metadata": {},
   "source": [
    "### 1. filter(), list(), len() are not methods\n",
    "### 2. Try to avoid \"_value\" suffix"
   ]
  },
  {
   "cell_type": "markdown",
   "metadata": {},
   "source": [
    "https://docs.djangoproject.com/en/3.0/intro/tutorial01/ <br>"
   ]
  },
  {
   "cell_type": "markdown",
   "metadata": {},
   "source": []
  }
 ],
 "metadata": {
  "kernelspec": {
   "display_name": "Python 3",
   "language": "python",
   "name": "python3"
  },
  "language_info": {
   "codemirror_mode": {
    "name": "ipython",
    "version": 3
   },
   "file_extension": ".py",
   "mimetype": "text/x-python",
   "name": "python",
   "nbconvert_exporter": "python",
   "pygments_lexer": "ipython3",
   "version": "3.7.4"
  }
 },
 "nbformat": 4,
 "nbformat_minor": 2
}
