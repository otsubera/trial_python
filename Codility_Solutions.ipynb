{
 "cells": [
  {
   "cell_type": "markdown",
   "metadata": {},
   "source": [
    "# Codility"
   ]
  },
  {
   "cell_type": "markdown",
   "metadata": {},
   "source": [
    "## OddOccurencesInArray  100% CHECKED"
   ]
  },
  {
   "cell_type": "code",
   "execution_count": null,
   "metadata": {},
   "outputs": [],
   "source": [
    "from collections import Counter\n",
    "\n",
    "def solution(a):\n",
    "    result = Counter(A)\n",
    "    return [key for key, value in result.most_common() if value % 2 != 0][0]"
   ]
  },
  {
   "cell_type": "code",
   "execution_count": null,
   "metadata": {},
   "outputs": [],
   "source": [
    "def solution(A):\n",
    "    counter = {}\n",
    "    \n",
    "    for x in A:  # O(n)\n",
    "        if x not in counter:\n",
    "            counter[x] = 1\n",
    "        else:\n",
    "            counter[x] += 1\n",
    "    \n",
    "    for k, v in counter.items():\n",
    "        if v % 2 == 1:\n",
    "            return k"
   ]
  },
  {
   "cell_type": "markdown",
   "metadata": {},
   "source": [
    "## FrogRiverOne 9%"
   ]
  },
  {
   "cell_type": "code",
   "execution_count": null,
   "metadata": {},
   "outputs": [],
   "source": [
    "def solution(X, A):\n",
    "    # write your code in Python 3.6\n",
    "    if (X not in A) or (len(A) == 1):\n",
    "       \n",
    "        return -1\n",
    "    else:\n",
    "        \n",
    "        return A.index(X)"
   ]
  },
  {
   "cell_type": "markdown",
   "metadata": {},
   "source": [
    "## MissingInteger 22%"
   ]
  },
  {
   "cell_type": "code",
   "execution_count": null,
   "metadata": {},
   "outputs": [],
   "source": [
    "def solution(A):\n",
    "    # write your code in Python 3.6\n",
    "    result = sorted(A, key=lambda x: (x<0, abs(x)))\n",
    "    if result[len(A)-1] < 0:\n",
    "        return 1\n",
    "    else:\n",
    "        answer = result[len(A) - 1] + 1\n",
    "        for index in range(1, len(A)):\n",
    "            if abs(result[index - 1] - result[index]) > 1:\n",
    "                answer =  result[index - 1] + 1\n",
    "            else:\n",
    "                continue\n",
    "                \n",
    "        return answer"
   ]
  },
  {
   "cell_type": "markdown",
   "metadata": {},
   "source": [
    "## Distinct 100%"
   ]
  },
  {
   "cell_type": "code",
   "execution_count": null,
   "metadata": {},
   "outputs": [],
   "source": [
    "def solution(A):   \n",
    "    return len(set(A))"
   ]
  },
  {
   "cell_type": "markdown",
   "metadata": {},
   "source": [
    "## FrogJmp 100%"
   ]
  },
  {
   "cell_type": "code",
   "execution_count": null,
   "metadata": {},
   "outputs": [],
   "source": [
    "def solution(X, Y, D):\n",
    "    result = divmod(Y-X, D)\n",
    "    if result[1] == 0:\n",
    "        return result[0]\n",
    "    else:\n",
    "        return result[0] + 1"
   ]
  }
 ],
 "metadata": {
  "kernelspec": {
   "display_name": "Python 3",
   "language": "python",
   "name": "python3"
  },
  "language_info": {
   "codemirror_mode": {
    "name": "ipython",
    "version": 3
   },
   "file_extension": ".py",
   "mimetype": "text/x-python",
   "name": "python",
   "nbconvert_exporter": "python",
   "pygments_lexer": "ipython3",
   "version": "3.7.4"
  }
 },
 "nbformat": 4,
 "nbformat_minor": 2
}
