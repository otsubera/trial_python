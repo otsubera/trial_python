{
 "cells": [
  {
   "cell_type": "markdown",
   "metadata": {},
   "source": [
    "# CHECKIO"
   ]
  },
  {
   "cell_type": "markdown",
   "metadata": {},
   "source": [
    "# HOME\n",
    "\n",
    "## Sum Numbers"
   ]
  },
  {
   "cell_type": "code",
   "execution_count": 1,
   "metadata": {},
   "outputs": [],
   "source": [
    "def sum_numbers(text: str) -> int:\n",
    "    # your code here\n",
    "    sum = 0\n",
    "    text_list = text.split(' ')\n",
    "    for word in text_list:        \n",
    "        if word.isnumeric():        \n",
    "            sum = sum + int(word)   \n",
    "    return sum"
   ]
  },
  {
   "cell_type": "code",
   "execution_count": 3,
   "metadata": {},
   "outputs": [],
   "source": [
    "def sum_numbers2(text: str) -> int:\n",
    "    return sum(\n",
    "        [\n",
    "            int(i)\n",
    "            for i in text.split(' ')\n",
    "            if i.isnumeric()\n",
    "        ]\n",
    "       )"
   ]
  },
  {
   "cell_type": "code",
   "execution_count": 4,
   "metadata": {},
   "outputs": [],
   "source": [
    "def sum_numbers3(text: str) -> int:\n",
    "    total = 0\n",
    "    for part in text.split():\n",
    "        try:\n",
    "            number = int(part)\n",
    "        except ValueError:\n",
    "            continue\n",
    "        else:\n",
    "            total += number\n",
    "    return total"
   ]
  },
  {
   "cell_type": "code",
   "execution_count": null,
   "metadata": {},
   "outputs": [],
   "source": [
    "# CHECK\n",
    "\n",
    "if __name__ == '__main__':\n",
    "    print(\"Example:\")\n",
    "    print(sum_numbers('hi'))\n",
    "\n",
    "    # These \"asserts\" are used for self-checking and not for an auto-testing\n",
    "    assert sum_numbers('hi') == 0\n",
    "    assert sum_numbers('who is 1st here') == 0\n",
    "    assert sum_numbers('my numbers is 2') == 2\n",
    "    assert sum_numbers('This picture is an oil on canvas '\n",
    " 'painting by Danish artist Anna '\n",
    " 'Petersen between 1845 and 1910 year') == 3755\n",
    "    assert sum_numbers('5 plus 6 is') == 11\n",
    "    assert sum_numbers('') == 0\n",
    "    print(\"Coding complete? Click 'Check' to earn cool rewards!\")"
   ]
  },
  {
   "cell_type": "code",
   "execution_count": 2,
   "metadata": {},
   "outputs": [
    {
     "name": "stdout",
     "output_type": "stream",
     "text": [
      "669 ns ± 7.55 ns per loop (mean ± std. dev. of 7 runs, 1000000 loops each)\n"
     ]
    }
   ],
   "source": [
    "%timeit assert sum_numbers('my numbers is 2') == 2\n",
    "%timeit assert sum_numbers2('my numbers is 2') == 2\n",
    "%timeit assert sum_numbers3('my numbers is 2') == 2"
   ]
  },
  {
   "cell_type": "markdown",
   "metadata": {},
   "source": [
    "## Split List"
   ]
  },
  {
   "cell_type": "code",
   "execution_count": 6,
   "metadata": {},
   "outputs": [
    {
     "name": "stdout",
     "output_type": "stream",
     "text": [
      "3.58 µs ± 91.3 ns per loop (mean ± std. dev. of 7 runs, 100000 loops each)\n"
     ]
    }
   ],
   "source": [
    "def split_list(items: list) -> list:\n",
    "    res = []\n",
    "    middle_index = round(len(items)//2)\n",
    "    if len(items) % 2 == 0:\n",
    "        return [items[:middle_index], items[middle_index:]]\n",
    "    else:\n",
    "        return [items[:middle_index+1], items[middle_index+1:]]"
   ]
  },
  {
   "cell_type": "code",
   "execution_count": null,
   "metadata": {},
   "outputs": [],
   "source": [
    "from typing import List, Any\n",
    "\n",
    "# 1. No not-needed variables, remove \"res\"\n",
    "# 2. Different way to use typing\n",
    "# 3. No need to use round()\n",
    "def split_list_2(items: List[Any]) -> List[List[Any]]:\n",
    "    middle_index = len(items) // 2\n",
    "    if len(items) % 2 == 0:\n",
    "        return [items[:middle_index], items[middle_index:]]\n",
    "    else:\n",
    "        return [items[:middle_index+1], items[middle_index+1:]]"
   ]
  },
  {
   "cell_type": "code",
   "execution_count": null,
   "metadata": {},
   "outputs": [],
   "source": [
    "def split_list_3(items: list) -> list:\n",
    "    length = len(items)\n",
    "    is_odd = length % 2 == 1\n",
    "    middle = int(length / 2) + is_odd\n",
    "    return [\n",
    "        items[:middle],\n",
    "        items[middle:],\n",
    "    ]"
   ]
  },
  {
   "cell_type": "code",
   "execution_count": null,
   "metadata": {},
   "outputs": [],
   "source": [
    "\n",
    "if __name__ == '__main__':\n",
    "    print(\"Example:\")\n",
    "    print(split_list([1, 2, 3, 4, 5, 6]))\n",
    "\n",
    "    # These \"asserts\" are used for self-checking and not for an auto-testing\n",
    "    assert split_list([1, 2, 3, 4, 5, 6]) == [[1, 2, 3], [4, 5, 6]]\n",
    "    assert split_list([1, 2, 3]) == [[1, 2], [3]]\n",
    "    assert split_list([1, 2, 3, 4, 5]) == [[1, 2, 3], [4, 5]]\n",
    "    assert split_list([1]) == [[1], []]\n",
    "    assert split_list([]) == [[], []]\n",
    "    print(\"Coding complete? Click 'Check' to earn cool rewards!\")"
   ]
  },
  {
   "cell_type": "markdown",
   "metadata": {},
   "source": [
    "## Even the Last"
   ]
  },
  {
   "cell_type": "code",
   "execution_count": null,
   "metadata": {},
   "outputs": [],
   "source": [
    "\"\"\"Sample module.\"\"\"\n",
    "\n",
    "def checkio(array: list) -> int:\n",
    "    \"\"\"Sum even-indexes elements and multiply at the last.\"\"\"\n",
    "    sum = 0\n",
    "    ln = len(array)\n",
    "    if ln == 0:\n",
    "        return 0\n",
    "    for i in range(0, ln):\n",
    "        if i % 2 == 0:\n",
    "            sum = sum + array[i]\n",
    "    return sum*array[-1]\n"
   ]
  },
  {
   "cell_type": "code",
   "execution_count": null,
   "metadata": {},
   "outputs": [],
   "source": [
    "# 1. Try avoid names interfering builtin scope (sum)\n",
    "# 2. Move guard clause to the top\n",
    "# 3. Try to avoid shortcuts (except well-know abbreviations http, aws, etc...)\n",
    "# 4. Use enumerate() instead of range()\n",
    "# 5. Refactoring -> Remove Temp (length)\n",
    "# 6. Pythonic refactoring (if len(array) == 0  -> if array)\n",
    "def checkio_2(array: list) -> int:\n",
    "    \"\"\"Sum even-indexes elements and multiply at the last.\"\"\"\n",
    "    if not array:\n",
    "        return 0\n",
    "\n",
    "    result = 0\n",
    "    for index, element in enumerate(array):\n",
    "        if index % 2 == 0:\n",
    "            result = result + element\n",
    "\n",
    "    return result*array[-1]"
   ]
  },
  {
   "cell_type": "markdown",
   "metadata": {},
   "source": [
    "## Right to Left"
   ]
  },
  {
   "cell_type": "code",
   "execution_count": null,
   "metadata": {},
   "outputs": [],
   "source": [
    "# 1. Use same type of quotes everywhere (consistency) (use single quotes all the time, use double quotes in single quotes)\n",
    "# 2. Practice in describing:\n",
    "# - I use generator expression (word.replace('right', 'left') for word in phrases) for iterating\n",
    "#   over input tuple and replace needed word\n",
    "# - I use join with generator expression above to get final string\n",
    "def left_join_reviewed(phrases: tuple) -> str:\n",
    "    \"\"\"Join strings and replace 'right' to 'left'.\"\"\"\n",
    "    return ','.join(word.replace('right', 'left') for word in phrases)"
   ]
  },
  {
   "cell_type": "code",
   "execution_count": null,
   "metadata": {},
   "outputs": [],
   "source": [
    "def left_join_extra_option(phrases: tuple) -> str:\n",
    "    \"\"\"Join strings and replace 'right' to 'left'.\"\"\"\n",
    "    return ','.join(phrases).replace('right', 'left')"
   ]
  },
  {
   "cell_type": "markdown",
   "metadata": {},
   "source": [
    "## Count Digits"
   ]
  },
  {
   "cell_type": "code",
   "execution_count": null,
   "metadata": {},
   "outputs": [],
   "source": [
    "# 1. filter(), list(), len() are not methods\n",
    "# 2. Try to avoid \"_value\" suffix\n",
    "def count_digits(text: str) -> int:\n",
    "    \"\"\" Practice in describing:\n",
    "     I use filter method to select values from text that are digit.\n",
    "     I use list method to convert result above to list type\n",
    "     I use len methon to find lenght of the list that is an similar to count values. \"\"\"\n",
    "\n",
    "    ##count_digit = 0\n",
    "    ##for char_value in text:\n",
    "    ##    if char_value.isdigit() :\n",
    "    ##        count_digit += 1\n",
    "    ##return count_digit\n",
    "    return len(list(filter(lambda char: char.isdigit(), text)))"
   ]
  },
  {
   "cell_type": "code",
   "execution_count": null,
   "metadata": {},
   "outputs": [],
   "source": [
    "def count_digits_refactored(text: str) -> int:\n",
    "    \"\"\" Practice in describing:\n",
    "     I use filter() to select values from text that are digit.\n",
    "     I use list() to convert result above to list type\n",
    "     I use len() to find lenght of the list that is an similar to count values. \"\"\"\n",
    "\n",
    "    ##count_digit = 0\n",
    "    ##for char_value in text:\n",
    "    ##    if char_value.isdigit() :\n",
    "    ##        count_digit += 1\n",
    "    ##return count_digit\n",
    "    print(filter(lambda char_value: char_value.isdigit(), text))\n",
    "    return len(list(filter(lambda char_value: char_value.isdigit(), text)))"
   ]
  }
 ],
 "metadata": {
  "kernelspec": {
   "display_name": "Python 3",
   "language": "python",
   "name": "python3"
  },
  "language_info": {
   "codemirror_mode": {
    "name": "ipython",
    "version": 3
   },
   "file_extension": ".py",
   "mimetype": "text/x-python",
   "name": "python",
   "nbconvert_exporter": "python",
   "pygments_lexer": "ipython3",
   "version": "3.7.4"
  }
 },
 "nbformat": 4,
 "nbformat_minor": 2
}
